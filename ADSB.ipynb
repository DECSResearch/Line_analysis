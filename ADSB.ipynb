{
 "cells": [
  {
   "cell_type": "code",
   "execution_count": 1,
   "metadata": {
    "collapsed": true,
    "ExecuteTime": {
     "start_time": "2023-04-18T09:40:22.444229Z",
     "end_time": "2023-04-18T09:40:22.622789Z"
    }
   },
   "outputs": [],
   "source": [
    "import pandas as pd"
   ]
  },
  {
   "cell_type": "code",
   "execution_count": 2,
   "outputs": [],
   "source": [
    "uas_df = pd.read_csv(\"data/adsb_manual.csv\")"
   ],
   "metadata": {
    "collapsed": false,
    "ExecuteTime": {
     "start_time": "2023-04-18T09:40:22.659606Z",
     "end_time": "2023-04-18T09:40:22.814304Z"
    }
   }
  },
  {
   "cell_type": "code",
   "execution_count": 40,
   "outputs": [],
   "source": [
    "adsb_df = pd.read_csv(\"data/adsb.csv\")"
   ],
   "metadata": {
    "collapsed": false,
    "ExecuteTime": {
     "start_time": "2023-04-18T13:01:22.166064Z",
     "end_time": "2023-04-18T13:01:22.369907Z"
    }
   }
  },
  {
   "cell_type": "code",
   "execution_count": 24,
   "outputs": [
    {
     "data": {
      "text/plain": "       Unnamed: 0.1  Unnamed: 0                       datetime   \n0                 0           0   2023-01-11T05:14:52.18-06:00  \\\n1                 1           1   2023-01-11T05:14:52.18-06:00   \n2                 2           2   2023-01-11T05:14:52.18-06:00   \n3                 3           3  2023-01-11T05:14:52.779-06:00   \n4                 4           4  2023-01-11T05:14:52.779-06:00   \n...             ...         ...                            ...   \n18103         18103       18103  2023-01-11T06:52:50.952-06:00   \n18104         18104       18104  2023-01-11T06:52:50.955-06:00   \n18105         18105       18105  2023-01-11T06:52:50.961-06:00   \n18106         18106       18106  2023-01-11T06:52:50.961-06:00   \n18107         18107       18107  2023-01-11T06:52:51.004-06:00   \n\n                        gpstime        Lat         Lng         Alt   \n0           0001-01-01T00:00:00   0.000000    0.000000    0.000000  \\\n1           0001-01-01T00:00:00   0.000000    0.000000    0.000000   \n2           0001-01-01T00:00:00   0.000000    0.000000    0.000000   \n3           0001-01-01T00:00:00   0.000000    0.000000    0.000000   \n4           0001-01-01T00:00:00   0.000000    0.000000    0.000000   \n...                         ...        ...         ...         ...   \n18103  2023-01-11T21:53:48.065Z  64.858227 -147.851422  188.490005   \n18104  2023-01-11T21:53:48.065Z  64.858227 -147.851422  188.490005   \n18105  2023-01-11T21:53:48.065Z  64.858227 -147.851422  188.490005   \n18106  2023-01-11T21:53:48.065Z  64.858227 -147.851422  188.490005   \n18107  2023-01-11T21:53:48.065Z  64.858227 -147.851422  188.490005   \n\n       packetslost  packetsnotlost  magfield1  ...  verticalspeed_fpm   \n0       228.000000         1.00000     0.0000  ...           0.000000  \\\n1       228.000000         1.00000     0.0000  ...           0.000000   \n2       228.000000         1.00000     0.0000  ...           0.000000   \n3       228.000000         2.00000     0.0000  ...           0.000000   \n4       228.000000         2.00000     0.0000  ...           0.000000   \n...            ...             ...        ...  ...                ...   \n18103     0.001803      1825.20886   551.8741  ...           5.905512   \n18104     0.001803      1829.20886   551.8741  ...           5.905512   \n18105     0.001803      1834.20886   551.8741  ...           5.905512   \n18106     0.001803      1834.20886   551.8741  ...           5.905512   \n18107     0.001803      1836.20886   551.8741  ...           5.905512   \n\n       DistToHome  rssi  press_abs  press_temp  press_abs2  press_temp2   \n0        0.000000     0     0.0000           0    0.000000            0  \\\n1        0.000000     0     0.0000           0    0.000000            0   \n2        0.000000     0     0.0000           0    0.000000            0   \n3        0.000000   215     0.0000           0    0.000000            0   \n4        0.000000   215     0.0000           0    0.000000            0   \n...           ...   ...        ...         ...         ...          ...   \n18103    0.285031   241   984.2528        4221  984.678955         2718   \n18104    0.285031   241   984.2528        4221  984.678955         2718   \n18105    0.285031   241   984.2528        4221  984.678955         2718   \n18106    0.285031   241   984.2528        4221  984.678955         2718   \n18107    0.285031   241   984.2528        4221  984.678955         2718   \n\n       landed                             time              time_seconds  \n0        True 2023-01-11 05:14:52.180000-06:00 2023-01-11 05:14:52-06:00  \n1        True 2023-01-11 05:14:52.180000-06:00 2023-01-11 05:14:52-06:00  \n2        True 2023-01-11 05:14:52.180000-06:00 2023-01-11 05:14:52-06:00  \n3        True 2023-01-11 05:14:52.779000-06:00 2023-01-11 05:14:53-06:00  \n4        True 2023-01-11 05:14:52.779000-06:00 2023-01-11 05:14:53-06:00  \n...       ...                              ...                       ...  \n18103    True 2023-01-11 06:52:50.952000-06:00 2023-01-11 06:52:51-06:00  \n18104    True 2023-01-11 06:52:50.955000-06:00 2023-01-11 06:52:51-06:00  \n18105    True 2023-01-11 06:52:50.961000-06:00 2023-01-11 06:52:51-06:00  \n18106    True 2023-01-11 06:52:50.961000-06:00 2023-01-11 06:52:51-06:00  \n18107    True 2023-01-11 06:52:51.004000-06:00 2023-01-11 06:52:51-06:00  \n\n[18108 rows x 43 columns]",
      "text/html": "<div>\n<style scoped>\n    .dataframe tbody tr th:only-of-type {\n        vertical-align: middle;\n    }\n\n    .dataframe tbody tr th {\n        vertical-align: top;\n    }\n\n    .dataframe thead th {\n        text-align: right;\n    }\n</style>\n<table border=\"1\" class=\"dataframe\">\n  <thead>\n    <tr style=\"text-align: right;\">\n      <th></th>\n      <th>Unnamed: 0.1</th>\n      <th>Unnamed: 0</th>\n      <th>datetime</th>\n      <th>gpstime</th>\n      <th>Lat</th>\n      <th>Lng</th>\n      <th>Alt</th>\n      <th>packetslost</th>\n      <th>packetsnotlost</th>\n      <th>magfield1</th>\n      <th>...</th>\n      <th>verticalspeed_fpm</th>\n      <th>DistToHome</th>\n      <th>rssi</th>\n      <th>press_abs</th>\n      <th>press_temp</th>\n      <th>press_abs2</th>\n      <th>press_temp2</th>\n      <th>landed</th>\n      <th>time</th>\n      <th>time_seconds</th>\n    </tr>\n  </thead>\n  <tbody>\n    <tr>\n      <th>0</th>\n      <td>0</td>\n      <td>0</td>\n      <td>2023-01-11T05:14:52.18-06:00</td>\n      <td>0001-01-01T00:00:00</td>\n      <td>0.000000</td>\n      <td>0.000000</td>\n      <td>0.000000</td>\n      <td>228.000000</td>\n      <td>1.00000</td>\n      <td>0.0000</td>\n      <td>...</td>\n      <td>0.000000</td>\n      <td>0.000000</td>\n      <td>0</td>\n      <td>0.0000</td>\n      <td>0</td>\n      <td>0.000000</td>\n      <td>0</td>\n      <td>True</td>\n      <td>2023-01-11 05:14:52.180000-06:00</td>\n      <td>2023-01-11 05:14:52-06:00</td>\n    </tr>\n    <tr>\n      <th>1</th>\n      <td>1</td>\n      <td>1</td>\n      <td>2023-01-11T05:14:52.18-06:00</td>\n      <td>0001-01-01T00:00:00</td>\n      <td>0.000000</td>\n      <td>0.000000</td>\n      <td>0.000000</td>\n      <td>228.000000</td>\n      <td>1.00000</td>\n      <td>0.0000</td>\n      <td>...</td>\n      <td>0.000000</td>\n      <td>0.000000</td>\n      <td>0</td>\n      <td>0.0000</td>\n      <td>0</td>\n      <td>0.000000</td>\n      <td>0</td>\n      <td>True</td>\n      <td>2023-01-11 05:14:52.180000-06:00</td>\n      <td>2023-01-11 05:14:52-06:00</td>\n    </tr>\n    <tr>\n      <th>2</th>\n      <td>2</td>\n      <td>2</td>\n      <td>2023-01-11T05:14:52.18-06:00</td>\n      <td>0001-01-01T00:00:00</td>\n      <td>0.000000</td>\n      <td>0.000000</td>\n      <td>0.000000</td>\n      <td>228.000000</td>\n      <td>1.00000</td>\n      <td>0.0000</td>\n      <td>...</td>\n      <td>0.000000</td>\n      <td>0.000000</td>\n      <td>0</td>\n      <td>0.0000</td>\n      <td>0</td>\n      <td>0.000000</td>\n      <td>0</td>\n      <td>True</td>\n      <td>2023-01-11 05:14:52.180000-06:00</td>\n      <td>2023-01-11 05:14:52-06:00</td>\n    </tr>\n    <tr>\n      <th>3</th>\n      <td>3</td>\n      <td>3</td>\n      <td>2023-01-11T05:14:52.779-06:00</td>\n      <td>0001-01-01T00:00:00</td>\n      <td>0.000000</td>\n      <td>0.000000</td>\n      <td>0.000000</td>\n      <td>228.000000</td>\n      <td>2.00000</td>\n      <td>0.0000</td>\n      <td>...</td>\n      <td>0.000000</td>\n      <td>0.000000</td>\n      <td>215</td>\n      <td>0.0000</td>\n      <td>0</td>\n      <td>0.000000</td>\n      <td>0</td>\n      <td>True</td>\n      <td>2023-01-11 05:14:52.779000-06:00</td>\n      <td>2023-01-11 05:14:53-06:00</td>\n    </tr>\n    <tr>\n      <th>4</th>\n      <td>4</td>\n      <td>4</td>\n      <td>2023-01-11T05:14:52.779-06:00</td>\n      <td>0001-01-01T00:00:00</td>\n      <td>0.000000</td>\n      <td>0.000000</td>\n      <td>0.000000</td>\n      <td>228.000000</td>\n      <td>2.00000</td>\n      <td>0.0000</td>\n      <td>...</td>\n      <td>0.000000</td>\n      <td>0.000000</td>\n      <td>215</td>\n      <td>0.0000</td>\n      <td>0</td>\n      <td>0.000000</td>\n      <td>0</td>\n      <td>True</td>\n      <td>2023-01-11 05:14:52.779000-06:00</td>\n      <td>2023-01-11 05:14:53-06:00</td>\n    </tr>\n    <tr>\n      <th>...</th>\n      <td>...</td>\n      <td>...</td>\n      <td>...</td>\n      <td>...</td>\n      <td>...</td>\n      <td>...</td>\n      <td>...</td>\n      <td>...</td>\n      <td>...</td>\n      <td>...</td>\n      <td>...</td>\n      <td>...</td>\n      <td>...</td>\n      <td>...</td>\n      <td>...</td>\n      <td>...</td>\n      <td>...</td>\n      <td>...</td>\n      <td>...</td>\n      <td>...</td>\n      <td>...</td>\n    </tr>\n    <tr>\n      <th>18103</th>\n      <td>18103</td>\n      <td>18103</td>\n      <td>2023-01-11T06:52:50.952-06:00</td>\n      <td>2023-01-11T21:53:48.065Z</td>\n      <td>64.858227</td>\n      <td>-147.851422</td>\n      <td>188.490005</td>\n      <td>0.001803</td>\n      <td>1825.20886</td>\n      <td>551.8741</td>\n      <td>...</td>\n      <td>5.905512</td>\n      <td>0.285031</td>\n      <td>241</td>\n      <td>984.2528</td>\n      <td>4221</td>\n      <td>984.678955</td>\n      <td>2718</td>\n      <td>True</td>\n      <td>2023-01-11 06:52:50.952000-06:00</td>\n      <td>2023-01-11 06:52:51-06:00</td>\n    </tr>\n    <tr>\n      <th>18104</th>\n      <td>18104</td>\n      <td>18104</td>\n      <td>2023-01-11T06:52:50.955-06:00</td>\n      <td>2023-01-11T21:53:48.065Z</td>\n      <td>64.858227</td>\n      <td>-147.851422</td>\n      <td>188.490005</td>\n      <td>0.001803</td>\n      <td>1829.20886</td>\n      <td>551.8741</td>\n      <td>...</td>\n      <td>5.905512</td>\n      <td>0.285031</td>\n      <td>241</td>\n      <td>984.2528</td>\n      <td>4221</td>\n      <td>984.678955</td>\n      <td>2718</td>\n      <td>True</td>\n      <td>2023-01-11 06:52:50.955000-06:00</td>\n      <td>2023-01-11 06:52:51-06:00</td>\n    </tr>\n    <tr>\n      <th>18105</th>\n      <td>18105</td>\n      <td>18105</td>\n      <td>2023-01-11T06:52:50.961-06:00</td>\n      <td>2023-01-11T21:53:48.065Z</td>\n      <td>64.858227</td>\n      <td>-147.851422</td>\n      <td>188.490005</td>\n      <td>0.001803</td>\n      <td>1834.20886</td>\n      <td>551.8741</td>\n      <td>...</td>\n      <td>5.905512</td>\n      <td>0.285031</td>\n      <td>241</td>\n      <td>984.2528</td>\n      <td>4221</td>\n      <td>984.678955</td>\n      <td>2718</td>\n      <td>True</td>\n      <td>2023-01-11 06:52:50.961000-06:00</td>\n      <td>2023-01-11 06:52:51-06:00</td>\n    </tr>\n    <tr>\n      <th>18106</th>\n      <td>18106</td>\n      <td>18106</td>\n      <td>2023-01-11T06:52:50.961-06:00</td>\n      <td>2023-01-11T21:53:48.065Z</td>\n      <td>64.858227</td>\n      <td>-147.851422</td>\n      <td>188.490005</td>\n      <td>0.001803</td>\n      <td>1834.20886</td>\n      <td>551.8741</td>\n      <td>...</td>\n      <td>5.905512</td>\n      <td>0.285031</td>\n      <td>241</td>\n      <td>984.2528</td>\n      <td>4221</td>\n      <td>984.678955</td>\n      <td>2718</td>\n      <td>True</td>\n      <td>2023-01-11 06:52:50.961000-06:00</td>\n      <td>2023-01-11 06:52:51-06:00</td>\n    </tr>\n    <tr>\n      <th>18107</th>\n      <td>18107</td>\n      <td>18107</td>\n      <td>2023-01-11T06:52:51.004-06:00</td>\n      <td>2023-01-11T21:53:48.065Z</td>\n      <td>64.858227</td>\n      <td>-147.851422</td>\n      <td>188.490005</td>\n      <td>0.001803</td>\n      <td>1836.20886</td>\n      <td>551.8741</td>\n      <td>...</td>\n      <td>5.905512</td>\n      <td>0.285031</td>\n      <td>241</td>\n      <td>984.2528</td>\n      <td>4221</td>\n      <td>984.678955</td>\n      <td>2718</td>\n      <td>True</td>\n      <td>2023-01-11 06:52:51.004000-06:00</td>\n      <td>2023-01-11 06:52:51-06:00</td>\n    </tr>\n  </tbody>\n</table>\n<p>18108 rows × 43 columns</p>\n</div>"
     },
     "execution_count": 24,
     "metadata": {},
     "output_type": "execute_result"
    }
   ],
   "source": [
    "uas_df"
   ],
   "metadata": {
    "collapsed": false,
    "ExecuteTime": {
     "start_time": "2023-04-18T10:56:11.686283Z",
     "end_time": "2023-04-18T10:56:11.728396Z"
    }
   }
  },
  {
   "cell_type": "code",
   "execution_count": null,
   "outputs": [],
   "source": [],
   "metadata": {
    "collapsed": false
   }
  },
  {
   "cell_type": "code",
   "execution_count": 23,
   "outputs": [
    {
     "name": "stdout",
     "output_type": "stream",
     "text": [
      "0         17:53:50.909\n",
      "1         17:53:51.009\n",
      "2         17:53:51.009\n",
      "3         17:53:51.173\n",
      "4         17:53:51.413\n",
      "              ...     \n",
      "128139    19:12:30.732\n",
      "128140    19:12:30.842\n",
      "128141    19:12:30.844\n",
      "128142    19:12:30.928\n",
      "128143    19:12:30.929\n",
      "Name: start, Length: 128144, dtype: object\n"
     ]
    }
   ],
   "source": [
    "import plotly.express as px\n",
    "\n",
    "adsb_df\n",
    "print(adsb_df['start'])"
   ],
   "metadata": {
    "collapsed": false,
    "ExecuteTime": {
     "start_time": "2023-04-18T10:55:39.805039Z",
     "end_time": "2023-04-18T10:55:39.813819Z"
    }
   }
  },
  {
   "cell_type": "code",
   "execution_count": 6,
   "outputs": [],
   "source": [
    "uas_df['time'] = uas_df['datetime'].apply(lambda x: pd.to_datetime(x))"
   ],
   "metadata": {
    "collapsed": false,
    "ExecuteTime": {
     "start_time": "2023-04-18T09:40:29.138390Z",
     "end_time": "2023-04-18T09:40:34.246452Z"
    }
   }
  },
  {
   "cell_type": "code",
   "execution_count": 11,
   "outputs": [],
   "source": [
    "uas_df['time_seconds'] = uas_df['time'].dt.round('1s')\n",
    "uas_df['time_seconds'] + pd.Timedelta(hours=12)\n",
    "uas_df['time_seconds'] = uas_df['time_seconds'].apply(lambda x: x.replace(tzinfo=None))\n"
   ],
   "metadata": {
    "collapsed": false,
    "ExecuteTime": {
     "start_time": "2023-04-18T09:42:27.095546Z",
     "end_time": "2023-04-18T09:42:27.104562Z"
    }
   }
  },
  {
   "cell_type": "code",
   "execution_count": 37,
   "outputs": [
    {
     "data": {
      "text/plain": "       Unnamed: 0.1  Unnamed: 0                       datetime   \n0                 0           0   2023-01-11T05:14:52.18-06:00  \\\n1                 1           1   2023-01-11T05:14:52.18-06:00   \n2                 2           2   2023-01-11T05:14:52.18-06:00   \n3                 3           3  2023-01-11T05:14:52.779-06:00   \n4                 4           4  2023-01-11T05:14:52.779-06:00   \n...             ...         ...                            ...   \n18103         18103       18103  2023-01-11T06:52:50.952-06:00   \n18104         18104       18104  2023-01-11T06:52:50.955-06:00   \n18105         18105       18105  2023-01-11T06:52:50.961-06:00   \n18106         18106       18106  2023-01-11T06:52:50.961-06:00   \n18107         18107       18107  2023-01-11T06:52:51.004-06:00   \n\n                        gpstime        Lat         Lng         Alt   \n0           0001-01-01T00:00:00   0.000000    0.000000    0.000000  \\\n1           0001-01-01T00:00:00   0.000000    0.000000    0.000000   \n2           0001-01-01T00:00:00   0.000000    0.000000    0.000000   \n3           0001-01-01T00:00:00   0.000000    0.000000    0.000000   \n4           0001-01-01T00:00:00   0.000000    0.000000    0.000000   \n...                         ...        ...         ...         ...   \n18103  2023-01-11T21:53:48.065Z  64.858227 -147.851422  188.490005   \n18104  2023-01-11T21:53:48.065Z  64.858227 -147.851422  188.490005   \n18105  2023-01-11T21:53:48.065Z  64.858227 -147.851422  188.490005   \n18106  2023-01-11T21:53:48.065Z  64.858227 -147.851422  188.490005   \n18107  2023-01-11T21:53:48.065Z  64.858227 -147.851422  188.490005   \n\n       packetslost  packetsnotlost  magfield1  ...  verticalspeed_fpm   \n0       228.000000         1.00000     0.0000  ...           0.000000  \\\n1       228.000000         1.00000     0.0000  ...           0.000000   \n2       228.000000         1.00000     0.0000  ...           0.000000   \n3       228.000000         2.00000     0.0000  ...           0.000000   \n4       228.000000         2.00000     0.0000  ...           0.000000   \n...            ...             ...        ...  ...                ...   \n18103     0.001803      1825.20886   551.8741  ...           5.905512   \n18104     0.001803      1829.20886   551.8741  ...           5.905512   \n18105     0.001803      1834.20886   551.8741  ...           5.905512   \n18106     0.001803      1834.20886   551.8741  ...           5.905512   \n18107     0.001803      1836.20886   551.8741  ...           5.905512   \n\n       DistToHome  rssi  press_abs  press_temp  press_abs2  press_temp2   \n0        0.000000     0     0.0000           0    0.000000            0  \\\n1        0.000000     0     0.0000           0    0.000000            0   \n2        0.000000     0     0.0000           0    0.000000            0   \n3        0.000000   215     0.0000           0    0.000000            0   \n4        0.000000   215     0.0000           0    0.000000            0   \n...           ...   ...        ...         ...         ...          ...   \n18103    0.285031   241   984.2528        4221  984.678955         2718   \n18104    0.285031   241   984.2528        4221  984.678955         2718   \n18105    0.285031   241   984.2528        4221  984.678955         2718   \n18106    0.285031   241   984.2528        4221  984.678955         2718   \n18107    0.285031   241   984.2528        4221  984.678955         2718   \n\n       landed                             time        time_seconds  \n0        True 2023-01-11 05:14:52.180000-06:00 2023-01-11 05:14:52  \n1        True 2023-01-11 05:14:52.180000-06:00 2023-01-11 05:14:52  \n2        True 2023-01-11 05:14:52.180000-06:00 2023-01-11 05:14:52  \n3        True 2023-01-11 05:14:52.779000-06:00 2023-01-11 05:14:53  \n4        True 2023-01-11 05:14:52.779000-06:00 2023-01-11 05:14:53  \n...       ...                              ...                 ...  \n18103    True 2023-01-11 06:52:50.952000-06:00 2023-01-11 06:52:51  \n18104    True 2023-01-11 06:52:50.955000-06:00 2023-01-11 06:52:51  \n18105    True 2023-01-11 06:52:50.961000-06:00 2023-01-11 06:52:51  \n18106    True 2023-01-11 06:52:50.961000-06:00 2023-01-11 06:52:51  \n18107    True 2023-01-11 06:52:51.004000-06:00 2023-01-11 06:52:51  \n\n[18108 rows x 43 columns]",
      "text/html": "<div>\n<style scoped>\n    .dataframe tbody tr th:only-of-type {\n        vertical-align: middle;\n    }\n\n    .dataframe tbody tr th {\n        vertical-align: top;\n    }\n\n    .dataframe thead th {\n        text-align: right;\n    }\n</style>\n<table border=\"1\" class=\"dataframe\">\n  <thead>\n    <tr style=\"text-align: right;\">\n      <th></th>\n      <th>Unnamed: 0.1</th>\n      <th>Unnamed: 0</th>\n      <th>datetime</th>\n      <th>gpstime</th>\n      <th>Lat</th>\n      <th>Lng</th>\n      <th>Alt</th>\n      <th>packetslost</th>\n      <th>packetsnotlost</th>\n      <th>magfield1</th>\n      <th>...</th>\n      <th>verticalspeed_fpm</th>\n      <th>DistToHome</th>\n      <th>rssi</th>\n      <th>press_abs</th>\n      <th>press_temp</th>\n      <th>press_abs2</th>\n      <th>press_temp2</th>\n      <th>landed</th>\n      <th>time</th>\n      <th>time_seconds</th>\n    </tr>\n  </thead>\n  <tbody>\n    <tr>\n      <th>0</th>\n      <td>0</td>\n      <td>0</td>\n      <td>2023-01-11T05:14:52.18-06:00</td>\n      <td>0001-01-01T00:00:00</td>\n      <td>0.000000</td>\n      <td>0.000000</td>\n      <td>0.000000</td>\n      <td>228.000000</td>\n      <td>1.00000</td>\n      <td>0.0000</td>\n      <td>...</td>\n      <td>0.000000</td>\n      <td>0.000000</td>\n      <td>0</td>\n      <td>0.0000</td>\n      <td>0</td>\n      <td>0.000000</td>\n      <td>0</td>\n      <td>True</td>\n      <td>2023-01-11 05:14:52.180000-06:00</td>\n      <td>2023-01-11 05:14:52</td>\n    </tr>\n    <tr>\n      <th>1</th>\n      <td>1</td>\n      <td>1</td>\n      <td>2023-01-11T05:14:52.18-06:00</td>\n      <td>0001-01-01T00:00:00</td>\n      <td>0.000000</td>\n      <td>0.000000</td>\n      <td>0.000000</td>\n      <td>228.000000</td>\n      <td>1.00000</td>\n      <td>0.0000</td>\n      <td>...</td>\n      <td>0.000000</td>\n      <td>0.000000</td>\n      <td>0</td>\n      <td>0.0000</td>\n      <td>0</td>\n      <td>0.000000</td>\n      <td>0</td>\n      <td>True</td>\n      <td>2023-01-11 05:14:52.180000-06:00</td>\n      <td>2023-01-11 05:14:52</td>\n    </tr>\n    <tr>\n      <th>2</th>\n      <td>2</td>\n      <td>2</td>\n      <td>2023-01-11T05:14:52.18-06:00</td>\n      <td>0001-01-01T00:00:00</td>\n      <td>0.000000</td>\n      <td>0.000000</td>\n      <td>0.000000</td>\n      <td>228.000000</td>\n      <td>1.00000</td>\n      <td>0.0000</td>\n      <td>...</td>\n      <td>0.000000</td>\n      <td>0.000000</td>\n      <td>0</td>\n      <td>0.0000</td>\n      <td>0</td>\n      <td>0.000000</td>\n      <td>0</td>\n      <td>True</td>\n      <td>2023-01-11 05:14:52.180000-06:00</td>\n      <td>2023-01-11 05:14:52</td>\n    </tr>\n    <tr>\n      <th>3</th>\n      <td>3</td>\n      <td>3</td>\n      <td>2023-01-11T05:14:52.779-06:00</td>\n      <td>0001-01-01T00:00:00</td>\n      <td>0.000000</td>\n      <td>0.000000</td>\n      <td>0.000000</td>\n      <td>228.000000</td>\n      <td>2.00000</td>\n      <td>0.0000</td>\n      <td>...</td>\n      <td>0.000000</td>\n      <td>0.000000</td>\n      <td>215</td>\n      <td>0.0000</td>\n      <td>0</td>\n      <td>0.000000</td>\n      <td>0</td>\n      <td>True</td>\n      <td>2023-01-11 05:14:52.779000-06:00</td>\n      <td>2023-01-11 05:14:53</td>\n    </tr>\n    <tr>\n      <th>4</th>\n      <td>4</td>\n      <td>4</td>\n      <td>2023-01-11T05:14:52.779-06:00</td>\n      <td>0001-01-01T00:00:00</td>\n      <td>0.000000</td>\n      <td>0.000000</td>\n      <td>0.000000</td>\n      <td>228.000000</td>\n      <td>2.00000</td>\n      <td>0.0000</td>\n      <td>...</td>\n      <td>0.000000</td>\n      <td>0.000000</td>\n      <td>215</td>\n      <td>0.0000</td>\n      <td>0</td>\n      <td>0.000000</td>\n      <td>0</td>\n      <td>True</td>\n      <td>2023-01-11 05:14:52.779000-06:00</td>\n      <td>2023-01-11 05:14:53</td>\n    </tr>\n    <tr>\n      <th>...</th>\n      <td>...</td>\n      <td>...</td>\n      <td>...</td>\n      <td>...</td>\n      <td>...</td>\n      <td>...</td>\n      <td>...</td>\n      <td>...</td>\n      <td>...</td>\n      <td>...</td>\n      <td>...</td>\n      <td>...</td>\n      <td>...</td>\n      <td>...</td>\n      <td>...</td>\n      <td>...</td>\n      <td>...</td>\n      <td>...</td>\n      <td>...</td>\n      <td>...</td>\n      <td>...</td>\n    </tr>\n    <tr>\n      <th>18103</th>\n      <td>18103</td>\n      <td>18103</td>\n      <td>2023-01-11T06:52:50.952-06:00</td>\n      <td>2023-01-11T21:53:48.065Z</td>\n      <td>64.858227</td>\n      <td>-147.851422</td>\n      <td>188.490005</td>\n      <td>0.001803</td>\n      <td>1825.20886</td>\n      <td>551.8741</td>\n      <td>...</td>\n      <td>5.905512</td>\n      <td>0.285031</td>\n      <td>241</td>\n      <td>984.2528</td>\n      <td>4221</td>\n      <td>984.678955</td>\n      <td>2718</td>\n      <td>True</td>\n      <td>2023-01-11 06:52:50.952000-06:00</td>\n      <td>2023-01-11 06:52:51</td>\n    </tr>\n    <tr>\n      <th>18104</th>\n      <td>18104</td>\n      <td>18104</td>\n      <td>2023-01-11T06:52:50.955-06:00</td>\n      <td>2023-01-11T21:53:48.065Z</td>\n      <td>64.858227</td>\n      <td>-147.851422</td>\n      <td>188.490005</td>\n      <td>0.001803</td>\n      <td>1829.20886</td>\n      <td>551.8741</td>\n      <td>...</td>\n      <td>5.905512</td>\n      <td>0.285031</td>\n      <td>241</td>\n      <td>984.2528</td>\n      <td>4221</td>\n      <td>984.678955</td>\n      <td>2718</td>\n      <td>True</td>\n      <td>2023-01-11 06:52:50.955000-06:00</td>\n      <td>2023-01-11 06:52:51</td>\n    </tr>\n    <tr>\n      <th>18105</th>\n      <td>18105</td>\n      <td>18105</td>\n      <td>2023-01-11T06:52:50.961-06:00</td>\n      <td>2023-01-11T21:53:48.065Z</td>\n      <td>64.858227</td>\n      <td>-147.851422</td>\n      <td>188.490005</td>\n      <td>0.001803</td>\n      <td>1834.20886</td>\n      <td>551.8741</td>\n      <td>...</td>\n      <td>5.905512</td>\n      <td>0.285031</td>\n      <td>241</td>\n      <td>984.2528</td>\n      <td>4221</td>\n      <td>984.678955</td>\n      <td>2718</td>\n      <td>True</td>\n      <td>2023-01-11 06:52:50.961000-06:00</td>\n      <td>2023-01-11 06:52:51</td>\n    </tr>\n    <tr>\n      <th>18106</th>\n      <td>18106</td>\n      <td>18106</td>\n      <td>2023-01-11T06:52:50.961-06:00</td>\n      <td>2023-01-11T21:53:48.065Z</td>\n      <td>64.858227</td>\n      <td>-147.851422</td>\n      <td>188.490005</td>\n      <td>0.001803</td>\n      <td>1834.20886</td>\n      <td>551.8741</td>\n      <td>...</td>\n      <td>5.905512</td>\n      <td>0.285031</td>\n      <td>241</td>\n      <td>984.2528</td>\n      <td>4221</td>\n      <td>984.678955</td>\n      <td>2718</td>\n      <td>True</td>\n      <td>2023-01-11 06:52:50.961000-06:00</td>\n      <td>2023-01-11 06:52:51</td>\n    </tr>\n    <tr>\n      <th>18107</th>\n      <td>18107</td>\n      <td>18107</td>\n      <td>2023-01-11T06:52:51.004-06:00</td>\n      <td>2023-01-11T21:53:48.065Z</td>\n      <td>64.858227</td>\n      <td>-147.851422</td>\n      <td>188.490005</td>\n      <td>0.001803</td>\n      <td>1836.20886</td>\n      <td>551.8741</td>\n      <td>...</td>\n      <td>5.905512</td>\n      <td>0.285031</td>\n      <td>241</td>\n      <td>984.2528</td>\n      <td>4221</td>\n      <td>984.678955</td>\n      <td>2718</td>\n      <td>True</td>\n      <td>2023-01-11 06:52:51.004000-06:00</td>\n      <td>2023-01-11 06:52:51</td>\n    </tr>\n  </tbody>\n</table>\n<p>18108 rows × 43 columns</p>\n</div>"
     },
     "execution_count": 37,
     "metadata": {},
     "output_type": "execute_result"
    }
   ],
   "source": [
    "uas_df"
   ],
   "metadata": {
    "collapsed": false,
    "ExecuteTime": {
     "start_time": "2023-04-18T12:59:14.058978Z",
     "end_time": "2023-04-18T12:59:14.094353Z"
    }
   }
  },
  {
   "cell_type": "code",
   "execution_count": 47,
   "outputs": [
    {
     "ename": "AttributeError",
     "evalue": "'Timedelta' object has no attribute 'dt'",
     "output_type": "error",
     "traceback": [
      "\u001B[0;31m---------------------------------------------------------------------------\u001B[0m",
      "\u001B[0;31mAttributeError\u001B[0m                            Traceback (most recent call last)",
      "Cell \u001B[0;32mIn[47], line 1\u001B[0m\n\u001B[0;32m----> 1\u001B[0m adsb_df[\u001B[38;5;124m'\u001B[39m\u001B[38;5;124mstart\u001B[39m\u001B[38;5;124m'\u001B[39m]\u001B[38;5;241m.\u001B[39mapply(\u001B[38;5;28;01mlambda\u001B[39;00m x: pd\u001B[38;5;241m.\u001B[39mto_datetime(x))\u001B[38;5;241m.\u001B[39mdt\u001B[38;5;241m.\u001B[39mround(\u001B[38;5;124m'\u001B[39m\u001B[38;5;124m1s\u001B[39m\u001B[38;5;124m'\u001B[39m)  \u001B[38;5;241m-\u001B[39m \u001B[43mpd\u001B[49m\u001B[38;5;241;43m.\u001B[39;49m\u001B[43mTimedelta\u001B[49m\u001B[43m(\u001B[49m\u001B[43mhours\u001B[49m\u001B[38;5;241;43m=\u001B[39;49m\u001B[38;5;241;43m12\u001B[39;49m\u001B[43m)\u001B[49m\u001B[38;5;241;43m.\u001B[39;49m\u001B[43mdt\u001B[49m\u001B[38;5;241m.\u001B[39mtime\n",
      "\u001B[0;31mAttributeError\u001B[0m: 'Timedelta' object has no attribute 'dt'"
     ]
    }
   ],
   "source": [
    "adsb_df['start'].apply(lambda x: pd.to_datetime(x)).dt.round('1s')  - pd.Timedelta(hours=12).dt.time"
   ],
   "metadata": {
    "collapsed": false,
    "ExecuteTime": {
     "start_time": "2023-04-18T13:02:30.200627Z",
     "end_time": "2023-04-18T13:03:02.113660Z"
    }
   }
  },
  {
   "cell_type": "code",
   "execution_count": null,
   "outputs": [],
   "source": [
    "adsb_df"
   ],
   "metadata": {
    "collapsed": false
   }
  },
  {
   "cell_type": "code",
   "execution_count": 43,
   "outputs": [
    {
     "ename": "KeyError",
     "evalue": "'start_seconds'",
     "output_type": "error",
     "traceback": [
      "\u001B[0;31m---------------------------------------------------------------------------\u001B[0m",
      "\u001B[0;31mKeyError\u001B[0m                                  Traceback (most recent call last)",
      "File \u001B[0;32m~/PycharmProjects/AlaskaAnalysis/alaska_Dataset_analysis/lib/python3.8/site-packages/pandas/core/indexes/base.py:3652\u001B[0m, in \u001B[0;36mIndex.get_loc\u001B[0;34m(self, key)\u001B[0m\n\u001B[1;32m   3651\u001B[0m \u001B[38;5;28;01mtry\u001B[39;00m:\n\u001B[0;32m-> 3652\u001B[0m     \u001B[38;5;28;01mreturn\u001B[39;00m \u001B[38;5;28;43mself\u001B[39;49m\u001B[38;5;241;43m.\u001B[39;49m\u001B[43m_engine\u001B[49m\u001B[38;5;241;43m.\u001B[39;49m\u001B[43mget_loc\u001B[49m\u001B[43m(\u001B[49m\u001B[43mcasted_key\u001B[49m\u001B[43m)\u001B[49m\n\u001B[1;32m   3653\u001B[0m \u001B[38;5;28;01mexcept\u001B[39;00m \u001B[38;5;167;01mKeyError\u001B[39;00m \u001B[38;5;28;01mas\u001B[39;00m err:\n",
      "File \u001B[0;32m~/PycharmProjects/AlaskaAnalysis/alaska_Dataset_analysis/lib/python3.8/site-packages/pandas/_libs/index.pyx:147\u001B[0m, in \u001B[0;36mpandas._libs.index.IndexEngine.get_loc\u001B[0;34m()\u001B[0m\n",
      "File \u001B[0;32m~/PycharmProjects/AlaskaAnalysis/alaska_Dataset_analysis/lib/python3.8/site-packages/pandas/_libs/index.pyx:176\u001B[0m, in \u001B[0;36mpandas._libs.index.IndexEngine.get_loc\u001B[0;34m()\u001B[0m\n",
      "File \u001B[0;32mpandas/_libs/hashtable_class_helper.pxi:7080\u001B[0m, in \u001B[0;36mpandas._libs.hashtable.PyObjectHashTable.get_item\u001B[0;34m()\u001B[0m\n",
      "File \u001B[0;32mpandas/_libs/hashtable_class_helper.pxi:7088\u001B[0m, in \u001B[0;36mpandas._libs.hashtable.PyObjectHashTable.get_item\u001B[0;34m()\u001B[0m\n",
      "\u001B[0;31mKeyError\u001B[0m: 'start_seconds'",
      "\nThe above exception was the direct cause of the following exception:\n",
      "\u001B[0;31mKeyError\u001B[0m                                  Traceback (most recent call last)",
      "Cell \u001B[0;32mIn[43], line 1\u001B[0m\n\u001B[0;32m----> 1\u001B[0m \u001B[43madsb_df\u001B[49m\u001B[43m[\u001B[49m\u001B[38;5;124;43m'\u001B[39;49m\u001B[38;5;124;43mstart_seconds\u001B[39;49m\u001B[38;5;124;43m'\u001B[39;49m\u001B[43m]\u001B[49m\n",
      "File \u001B[0;32m~/PycharmProjects/AlaskaAnalysis/alaska_Dataset_analysis/lib/python3.8/site-packages/pandas/core/frame.py:3760\u001B[0m, in \u001B[0;36mDataFrame.__getitem__\u001B[0;34m(self, key)\u001B[0m\n\u001B[1;32m   3758\u001B[0m \u001B[38;5;28;01mif\u001B[39;00m \u001B[38;5;28mself\u001B[39m\u001B[38;5;241m.\u001B[39mcolumns\u001B[38;5;241m.\u001B[39mnlevels \u001B[38;5;241m>\u001B[39m \u001B[38;5;241m1\u001B[39m:\n\u001B[1;32m   3759\u001B[0m     \u001B[38;5;28;01mreturn\u001B[39;00m \u001B[38;5;28mself\u001B[39m\u001B[38;5;241m.\u001B[39m_getitem_multilevel(key)\n\u001B[0;32m-> 3760\u001B[0m indexer \u001B[38;5;241m=\u001B[39m \u001B[38;5;28;43mself\u001B[39;49m\u001B[38;5;241;43m.\u001B[39;49m\u001B[43mcolumns\u001B[49m\u001B[38;5;241;43m.\u001B[39;49m\u001B[43mget_loc\u001B[49m\u001B[43m(\u001B[49m\u001B[43mkey\u001B[49m\u001B[43m)\u001B[49m\n\u001B[1;32m   3761\u001B[0m \u001B[38;5;28;01mif\u001B[39;00m is_integer(indexer):\n\u001B[1;32m   3762\u001B[0m     indexer \u001B[38;5;241m=\u001B[39m [indexer]\n",
      "File \u001B[0;32m~/PycharmProjects/AlaskaAnalysis/alaska_Dataset_analysis/lib/python3.8/site-packages/pandas/core/indexes/base.py:3654\u001B[0m, in \u001B[0;36mIndex.get_loc\u001B[0;34m(self, key)\u001B[0m\n\u001B[1;32m   3652\u001B[0m     \u001B[38;5;28;01mreturn\u001B[39;00m \u001B[38;5;28mself\u001B[39m\u001B[38;5;241m.\u001B[39m_engine\u001B[38;5;241m.\u001B[39mget_loc(casted_key)\n\u001B[1;32m   3653\u001B[0m \u001B[38;5;28;01mexcept\u001B[39;00m \u001B[38;5;167;01mKeyError\u001B[39;00m \u001B[38;5;28;01mas\u001B[39;00m err:\n\u001B[0;32m-> 3654\u001B[0m     \u001B[38;5;28;01mraise\u001B[39;00m \u001B[38;5;167;01mKeyError\u001B[39;00m(key) \u001B[38;5;28;01mfrom\u001B[39;00m \u001B[38;5;21;01merr\u001B[39;00m\n\u001B[1;32m   3655\u001B[0m \u001B[38;5;28;01mexcept\u001B[39;00m \u001B[38;5;167;01mTypeError\u001B[39;00m:\n\u001B[1;32m   3656\u001B[0m     \u001B[38;5;66;03m# If we have a listlike key, _check_indexing_error will raise\u001B[39;00m\n\u001B[1;32m   3657\u001B[0m     \u001B[38;5;66;03m#  InvalidIndexError. Otherwise we fall through and re-raise\u001B[39;00m\n\u001B[1;32m   3658\u001B[0m     \u001B[38;5;66;03m#  the TypeError.\u001B[39;00m\n\u001B[1;32m   3659\u001B[0m     \u001B[38;5;28mself\u001B[39m\u001B[38;5;241m.\u001B[39m_check_indexing_error(key)\n",
      "\u001B[0;31mKeyError\u001B[0m: 'start_seconds'"
     ]
    }
   ],
   "source": [
    "adsb_df['start_seconds'] =  adsb_df['start'].dt.round('1s') - pd.Timedelta(hours=12)"
   ],
   "metadata": {
    "collapsed": false,
    "ExecuteTime": {
     "start_time": "2023-04-18T13:00:41.740007Z",
     "end_time": "2023-04-18T13:00:41.782717Z"
    }
   }
  },
  {
   "cell_type": "code",
   "execution_count": 46,
   "outputs": [
    {
     "ename": "KeyError",
     "evalue": "'start_seconds'",
     "output_type": "error",
     "traceback": [
      "\u001B[0;31m---------------------------------------------------------------------------\u001B[0m",
      "\u001B[0;31mKeyError\u001B[0m                                  Traceback (most recent call last)",
      "File \u001B[0;32m~/PycharmProjects/AlaskaAnalysis/alaska_Dataset_analysis/lib/python3.8/site-packages/pandas/core/indexes/base.py:3652\u001B[0m, in \u001B[0;36mIndex.get_loc\u001B[0;34m(self, key)\u001B[0m\n\u001B[1;32m   3651\u001B[0m \u001B[38;5;28;01mtry\u001B[39;00m:\n\u001B[0;32m-> 3652\u001B[0m     \u001B[38;5;28;01mreturn\u001B[39;00m \u001B[38;5;28;43mself\u001B[39;49m\u001B[38;5;241;43m.\u001B[39;49m\u001B[43m_engine\u001B[49m\u001B[38;5;241;43m.\u001B[39;49m\u001B[43mget_loc\u001B[49m\u001B[43m(\u001B[49m\u001B[43mcasted_key\u001B[49m\u001B[43m)\u001B[49m\n\u001B[1;32m   3653\u001B[0m \u001B[38;5;28;01mexcept\u001B[39;00m \u001B[38;5;167;01mKeyError\u001B[39;00m \u001B[38;5;28;01mas\u001B[39;00m err:\n",
      "File \u001B[0;32m~/PycharmProjects/AlaskaAnalysis/alaska_Dataset_analysis/lib/python3.8/site-packages/pandas/_libs/index.pyx:147\u001B[0m, in \u001B[0;36mpandas._libs.index.IndexEngine.get_loc\u001B[0;34m()\u001B[0m\n",
      "File \u001B[0;32m~/PycharmProjects/AlaskaAnalysis/alaska_Dataset_analysis/lib/python3.8/site-packages/pandas/_libs/index.pyx:176\u001B[0m, in \u001B[0;36mpandas._libs.index.IndexEngine.get_loc\u001B[0;34m()\u001B[0m\n",
      "File \u001B[0;32mpandas/_libs/hashtable_class_helper.pxi:7080\u001B[0m, in \u001B[0;36mpandas._libs.hashtable.PyObjectHashTable.get_item\u001B[0;34m()\u001B[0m\n",
      "File \u001B[0;32mpandas/_libs/hashtable_class_helper.pxi:7088\u001B[0m, in \u001B[0;36mpandas._libs.hashtable.PyObjectHashTable.get_item\u001B[0;34m()\u001B[0m\n",
      "\u001B[0;31mKeyError\u001B[0m: 'start_seconds'",
      "\nThe above exception was the direct cause of the following exception:\n",
      "\u001B[0;31mKeyError\u001B[0m                                  Traceback (most recent call last)",
      "Cell \u001B[0;32mIn[46], line 1\u001B[0m\n\u001B[0;32m----> 1\u001B[0m \u001B[43madsb_df\u001B[49m\u001B[43m[\u001B[49m\u001B[38;5;124;43m'\u001B[39;49m\u001B[38;5;124;43mstart_seconds\u001B[39;49m\u001B[38;5;124;43m'\u001B[39;49m\u001B[43m]\u001B[49m\u001B[38;5;241m.\u001B[39mdt\u001B[38;5;241m.\u001B[39mtime\n",
      "File \u001B[0;32m~/PycharmProjects/AlaskaAnalysis/alaska_Dataset_analysis/lib/python3.8/site-packages/pandas/core/frame.py:3760\u001B[0m, in \u001B[0;36mDataFrame.__getitem__\u001B[0;34m(self, key)\u001B[0m\n\u001B[1;32m   3758\u001B[0m \u001B[38;5;28;01mif\u001B[39;00m \u001B[38;5;28mself\u001B[39m\u001B[38;5;241m.\u001B[39mcolumns\u001B[38;5;241m.\u001B[39mnlevels \u001B[38;5;241m>\u001B[39m \u001B[38;5;241m1\u001B[39m:\n\u001B[1;32m   3759\u001B[0m     \u001B[38;5;28;01mreturn\u001B[39;00m \u001B[38;5;28mself\u001B[39m\u001B[38;5;241m.\u001B[39m_getitem_multilevel(key)\n\u001B[0;32m-> 3760\u001B[0m indexer \u001B[38;5;241m=\u001B[39m \u001B[38;5;28;43mself\u001B[39;49m\u001B[38;5;241;43m.\u001B[39;49m\u001B[43mcolumns\u001B[49m\u001B[38;5;241;43m.\u001B[39;49m\u001B[43mget_loc\u001B[49m\u001B[43m(\u001B[49m\u001B[43mkey\u001B[49m\u001B[43m)\u001B[49m\n\u001B[1;32m   3761\u001B[0m \u001B[38;5;28;01mif\u001B[39;00m is_integer(indexer):\n\u001B[1;32m   3762\u001B[0m     indexer \u001B[38;5;241m=\u001B[39m [indexer]\n",
      "File \u001B[0;32m~/PycharmProjects/AlaskaAnalysis/alaska_Dataset_analysis/lib/python3.8/site-packages/pandas/core/indexes/base.py:3654\u001B[0m, in \u001B[0;36mIndex.get_loc\u001B[0;34m(self, key)\u001B[0m\n\u001B[1;32m   3652\u001B[0m     \u001B[38;5;28;01mreturn\u001B[39;00m \u001B[38;5;28mself\u001B[39m\u001B[38;5;241m.\u001B[39m_engine\u001B[38;5;241m.\u001B[39mget_loc(casted_key)\n\u001B[1;32m   3653\u001B[0m \u001B[38;5;28;01mexcept\u001B[39;00m \u001B[38;5;167;01mKeyError\u001B[39;00m \u001B[38;5;28;01mas\u001B[39;00m err:\n\u001B[0;32m-> 3654\u001B[0m     \u001B[38;5;28;01mraise\u001B[39;00m \u001B[38;5;167;01mKeyError\u001B[39;00m(key) \u001B[38;5;28;01mfrom\u001B[39;00m \u001B[38;5;21;01merr\u001B[39;00m\n\u001B[1;32m   3655\u001B[0m \u001B[38;5;28;01mexcept\u001B[39;00m \u001B[38;5;167;01mTypeError\u001B[39;00m:\n\u001B[1;32m   3656\u001B[0m     \u001B[38;5;66;03m# If we have a listlike key, _check_indexing_error will raise\u001B[39;00m\n\u001B[1;32m   3657\u001B[0m     \u001B[38;5;66;03m#  InvalidIndexError. Otherwise we fall through and re-raise\u001B[39;00m\n\u001B[1;32m   3658\u001B[0m     \u001B[38;5;66;03m#  the TypeError.\u001B[39;00m\n\u001B[1;32m   3659\u001B[0m     \u001B[38;5;28mself\u001B[39m\u001B[38;5;241m.\u001B[39m_check_indexing_error(key)\n",
      "\u001B[0;31mKeyError\u001B[0m: 'start_seconds'"
     ]
    }
   ],
   "source": [
    "adsb_df['start_seconds'].dt.time"
   ],
   "metadata": {
    "collapsed": false,
    "ExecuteTime": {
     "start_time": "2023-04-18T13:00:47.223708Z",
     "end_time": "2023-04-18T13:00:47.245225Z"
    }
   }
  },
  {
   "cell_type": "code",
   "execution_count": null,
   "outputs": [],
   "source": [],
   "metadata": {
    "collapsed": false
   }
  }
 ],
 "metadata": {
  "kernelspec": {
   "display_name": "Python 3",
   "language": "python",
   "name": "python3"
  },
  "language_info": {
   "codemirror_mode": {
    "name": "ipython",
    "version": 2
   },
   "file_extension": ".py",
   "mimetype": "text/x-python",
   "name": "python",
   "nbconvert_exporter": "python",
   "pygments_lexer": "ipython2",
   "version": "2.7.6"
  }
 },
 "nbformat": 4,
 "nbformat_minor": 0
}
